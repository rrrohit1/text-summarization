{
 "cells": [
  {
   "cell_type": "code",
   "execution_count": 59,
   "metadata": {},
   "outputs": [],
   "source": [
    "import pandas as pd\n",
    "import sys\n",
    "\n",
    "sys.path.append('../src')\n",
    "from metrics import calculate_metrics\n"
   ]
  },
  {
   "cell_type": "code",
   "execution_count": 60,
   "metadata": {},
   "outputs": [
    {
     "data": {
      "text/html": [
       "<div>\n",
       "<style scoped>\n",
       "    .dataframe tbody tr th:only-of-type {\n",
       "        vertical-align: middle;\n",
       "    }\n",
       "\n",
       "    .dataframe tbody tr th {\n",
       "        vertical-align: top;\n",
       "    }\n",
       "\n",
       "    .dataframe thead th {\n",
       "        text-align: right;\n",
       "    }\n",
       "</style>\n",
       "<table border=\"1\" class=\"dataframe\">\n",
       "  <thead>\n",
       "    <tr style=\"text-align: right;\">\n",
       "      <th></th>\n",
       "      <th>text</th>\n",
       "      <th>summary</th>\n",
       "    </tr>\n",
       "  </thead>\n",
       "  <tbody>\n",
       "    <tr>\n",
       "      <th>0</th>\n",
       "      <td>junior home minister kiren rijiju refueled rag...</td>\n",
       "      <td>minister state home kiren rijiju shared video ...</td>\n",
       "    </tr>\n",
       "    <tr>\n",
       "      <th>1</th>\n",
       "      <td>six persons arrested indore police allegedly d...</td>\n",
       "      <td>six people arrested indore police allegedly du...</td>\n",
       "    </tr>\n",
       "    <tr>\n",
       "      <th>2</th>\n",
       "      <td>charges counter charges flew lok sabha monday ...</td>\n",
       "      <td>minister state home affairs kiren rijiju discu...</td>\n",
       "    </tr>\n",
       "  </tbody>\n",
       "</table>\n",
       "</div>"
      ],
      "text/plain": [
       "                                                text  \\\n",
       "0  junior home minister kiren rijiju refueled rag...   \n",
       "1  six persons arrested indore police allegedly d...   \n",
       "2  charges counter charges flew lok sabha monday ...   \n",
       "\n",
       "                                             summary  \n",
       "0  minister state home kiren rijiju shared video ...  \n",
       "1  six people arrested indore police allegedly du...  \n",
       "2  minister state home affairs kiren rijiju discu...  "
      ]
     },
     "execution_count": 60,
     "metadata": {},
     "output_type": "execute_result"
    }
   ],
   "source": [
    "df = pd.read_csv('/Users/rohitrawat/job-prep/Assignments/accrete-ai/text-summarization/data/processed/news_summary_cleaned_train.csv').sample(10).reset_index(drop=True)\n",
    "df.head(3)"
   ]
  },
  {
   "cell_type": "code",
   "execution_count": 61,
   "metadata": {},
   "outputs": [
    {
     "name": "stderr",
     "output_type": "stream",
     "text": [
      "/opt/miniconda3/envs/accrete-ai/lib/python3.11/site-packages/transformers/tokenization_utils_base.py:1601: FutureWarning: `clean_up_tokenization_spaces` was not set. It will be set to `True` by default. This behavior will be depracted in transformers v4.45, and will be then set to `False` by default. For more details check this issue: https://github.com/huggingface/transformers/issues/31884\n",
      "  warnings.warn(\n"
     ]
    }
   ],
   "source": [
    "# Load model directly\n",
    "from transformers import AutoTokenizer, AutoModelForSeq2SeqLM\n",
    "\n",
    "model_id = \"google/flan-t5-small\"\n",
    "tokenizer = AutoTokenizer.from_pretrained(model_id)\n",
    "model = AutoModelForSeq2SeqLM.from_pretrained(model_id)"
   ]
  },
  {
   "cell_type": "code",
   "execution_count": 62,
   "metadata": {},
   "outputs": [
    {
     "name": "stderr",
     "output_type": "stream",
     "text": [
      "Hardware accelerator e.g. GPU is available in the environment, but no `device` argument is passed to the `Pipeline` object. Model will be on CPU.\n"
     ]
    }
   ],
   "source": [
    "from transformers import pipeline\n",
    "\n",
    "summarizer = pipeline(\"summarization\", model=model, tokenizer=tokenizer, device_map='auto')"
   ]
  },
  {
   "cell_type": "code",
   "execution_count": 63,
   "metadata": {},
   "outputs": [
    {
     "name": "stderr",
     "output_type": "stream",
     "text": [
      "Your max_length is set to 300, but your input_length is only 175. Since this is a summarization task, where outputs shorter than the input are typically wanted, you might consider decreasing max_length manually, e.g. summarizer('...', max_length=87)\n",
      "Token indices sequence length is longer than the specified maximum sequence length for this model (532 > 512). Running this sequence through the model will result in indexing errors\n",
      "Your max_length is set to 300, but your input_length is only 162. Since this is a summarization task, where outputs shorter than the input are typically wanted, you might consider decreasing max_length manually, e.g. summarizer('...', max_length=81)\n",
      "Your max_length is set to 300, but your input_length is only 242. Since this is a summarization task, where outputs shorter than the input are typically wanted, you might consider decreasing max_length manually, e.g. summarizer('...', max_length=121)\n",
      "Your max_length is set to 300, but your input_length is only 238. Since this is a summarization task, where outputs shorter than the input are typically wanted, you might consider decreasing max_length manually, e.g. summarizer('...', max_length=119)\n"
     ]
    }
   ],
   "source": [
    "import concurrent.futures\n",
    "\n",
    "# Define a function to generate the summary for a given text\n",
    "def generate_summary(text):\n",
    "    return summarizer(text, max_length=min(300, len(text)), min_length=30, do_sample=False)[0]['summary_text']\n",
    "\n",
    "# Use multithreading to generate summaries for each text in parallel\n",
    "with concurrent.futures.ThreadPoolExecutor() as executor:\n",
    "    # Submit the tasks to the executor\n",
    "    futures = [executor.submit(generate_summary, text) for text in df['text']]\n",
    "    \n",
    "    # Retrieve the results in the order they were submitted\n",
    "    for i, future in enumerate(futures):\n",
    "        generated_summary = future.result()\n",
    "        df.loc[i, 'generated_summary'] = generated_summary"
   ]
  },
  {
   "cell_type": "code",
   "execution_count": 64,
   "metadata": {},
   "outputs": [],
   "source": [
    "text = df['text'].tolist()\n",
    "summary = df['summary'].tolist()"
   ]
  },
  {
   "cell_type": "code",
   "execution_count": 65,
   "metadata": {},
   "outputs": [
    {
     "data": {
      "text/html": [
       "<div>\n",
       "<style scoped>\n",
       "    .dataframe tbody tr th:only-of-type {\n",
       "        vertical-align: middle;\n",
       "    }\n",
       "\n",
       "    .dataframe tbody tr th {\n",
       "        vertical-align: top;\n",
       "    }\n",
       "\n",
       "    .dataframe thead th {\n",
       "        text-align: right;\n",
       "    }\n",
       "</style>\n",
       "<table border=\"1\" class=\"dataframe\">\n",
       "  <thead>\n",
       "    <tr style=\"text-align: right;\">\n",
       "      <th></th>\n",
       "      <th>text</th>\n",
       "      <th>summary</th>\n",
       "      <th>generated_summary</th>\n",
       "    </tr>\n",
       "  </thead>\n",
       "  <tbody>\n",
       "    <tr>\n",
       "      <th>0</th>\n",
       "      <td>junior home minister kiren rijiju refueled rag...</td>\n",
       "      <td>minister state home kiren rijiju shared video ...</td>\n",
       "      <td>junior home minister rijiju refueled raging de...</td>\n",
       "    </tr>\n",
       "    <tr>\n",
       "      <th>1</th>\n",
       "      <td>six persons arrested indore police allegedly d...</td>\n",
       "      <td>six people arrested indore police allegedly du...</td>\n",
       "      <td>indore police allegedly duping customers selli...</td>\n",
       "    </tr>\n",
       "    <tr>\n",
       "      <th>2</th>\n",
       "      <td>charges counter charges flew lok sabha monday ...</td>\n",
       "      <td>minister state home affairs kiren rijiju discu...</td>\n",
       "      <td>lok sabha adjourned till pm lunch yadav speak ...</td>\n",
       "    </tr>\n",
       "    <tr>\n",
       "      <th>3</th>\n",
       "      <td>highly placed sources said election commission...</td>\n",
       "      <td>election commission barred madhya pradesh mini...</td>\n",
       "      <td>sources say election commission disqualified m...</td>\n",
       "    </tr>\n",
       "    <tr>\n",
       "      <th>4</th>\n",
       "      <td>gujarat congress mlas lodged karnataka resort ...</td>\n",
       "      <td>gujarati chef arranged gujarat mlas flown beng...</td>\n",
       "      <td>gujarat congress mlas lodged karnataka resort ...</td>\n",
       "    </tr>\n",
       "    <tr>\n",
       "      <th>5</th>\n",
       "      <td>make indian soldiers conversant chinese langua...</td>\n",
       "      <td>visvabharati university started certificate le...</td>\n",
       "      <td>indian soldiers conversant chinese language vi...</td>\n",
       "    </tr>\n",
       "    <tr>\n",
       "      <th>6</th>\n",
       "      <td>absconding businessman vijay mallya granted ba...</td>\n",
       "      <td>absconding businessman liquor baron vijay mall...</td>\n",
       "      <td>india vs pakistan champions trophy game birmin...</td>\n",
       "    </tr>\n",
       "    <tr>\n",
       "      <th>7</th>\n",
       "      <td>sunil rastogi came delhi sampark kranti expres...</td>\n",
       "      <td>yearold serial rapist accused raping hundreds ...</td>\n",
       "      <td>sunil rastogi came delhi sampark kranti expres...</td>\n",
       "    </tr>\n",
       "    <tr>\n",
       "      <th>8</th>\n",
       "      <td>two persons injured group residents opened fir...</td>\n",
       "      <td>two people injured residents ghaziabad opened ...</td>\n",
       "      <td>loni town ghaziabad wee hours friday local pan...</td>\n",
       "    </tr>\n",
       "    <tr>\n",
       "      <th>9</th>\n",
       "      <td>pakistans maritime authorities today arrested ...</td>\n",
       "      <td>amid ongoing tension india pakistan latter wed...</td>\n",
       "      <td>pakistan maritime authorities today arrested i...</td>\n",
       "    </tr>\n",
       "  </tbody>\n",
       "</table>\n",
       "</div>"
      ],
      "text/plain": [
       "                                                text  \\\n",
       "0  junior home minister kiren rijiju refueled rag...   \n",
       "1  six persons arrested indore police allegedly d...   \n",
       "2  charges counter charges flew lok sabha monday ...   \n",
       "3  highly placed sources said election commission...   \n",
       "4  gujarat congress mlas lodged karnataka resort ...   \n",
       "5  make indian soldiers conversant chinese langua...   \n",
       "6  absconding businessman vijay mallya granted ba...   \n",
       "7  sunil rastogi came delhi sampark kranti expres...   \n",
       "8  two persons injured group residents opened fir...   \n",
       "9  pakistans maritime authorities today arrested ...   \n",
       "\n",
       "                                             summary  \\\n",
       "0  minister state home kiren rijiju shared video ...   \n",
       "1  six people arrested indore police allegedly du...   \n",
       "2  minister state home affairs kiren rijiju discu...   \n",
       "3  election commission barred madhya pradesh mini...   \n",
       "4  gujarati chef arranged gujarat mlas flown beng...   \n",
       "5  visvabharati university started certificate le...   \n",
       "6  absconding businessman liquor baron vijay mall...   \n",
       "7  yearold serial rapist accused raping hundreds ...   \n",
       "8  two people injured residents ghaziabad opened ...   \n",
       "9  amid ongoing tension india pakistan latter wed...   \n",
       "\n",
       "                                   generated_summary  \n",
       "0  junior home minister rijiju refueled raging de...  \n",
       "1  indore police allegedly duping customers selli...  \n",
       "2  lok sabha adjourned till pm lunch yadav speak ...  \n",
       "3  sources say election commission disqualified m...  \n",
       "4  gujarat congress mlas lodged karnataka resort ...  \n",
       "5  indian soldiers conversant chinese language vi...  \n",
       "6  india vs pakistan champions trophy game birmin...  \n",
       "7  sunil rastogi came delhi sampark kranti expres...  \n",
       "8  loni town ghaziabad wee hours friday local pan...  \n",
       "9  pakistan maritime authorities today arrested i...  "
      ]
     },
     "execution_count": 65,
     "metadata": {},
     "output_type": "execute_result"
    }
   ],
   "source": [
    "df"
   ]
  },
  {
   "cell_type": "markdown",
   "metadata": {},
   "source": [
    "# Metrics on baseline model"
   ]
  },
  {
   "cell_type": "code",
   "execution_count": 66,
   "metadata": {},
   "outputs": [
    {
     "name": "stderr",
     "output_type": "stream",
     "text": [
      "/opt/miniconda3/envs/accrete-ai/lib/python3.11/site-packages/transformers/tokenization_utils_base.py:1601: FutureWarning: `clean_up_tokenization_spaces` was not set. It will be set to `True` by default. This behavior will be depracted in transformers v4.45, and will be then set to `False` by default. For more details check this issue: https://github.com/huggingface/transformers/issues/31884\n",
      "  warnings.warn(\n"
     ]
    },
    {
     "data": {
      "text/html": [
       "<div>\n",
       "<style scoped>\n",
       "    .dataframe tbody tr th:only-of-type {\n",
       "        vertical-align: middle;\n",
       "    }\n",
       "\n",
       "    .dataframe tbody tr th {\n",
       "        vertical-align: top;\n",
       "    }\n",
       "\n",
       "    .dataframe thead th {\n",
       "        text-align: right;\n",
       "    }\n",
       "</style>\n",
       "<table border=\"1\" class=\"dataframe\">\n",
       "  <thead>\n",
       "    <tr style=\"text-align: right;\">\n",
       "      <th></th>\n",
       "      <th>rouge-1</th>\n",
       "      <th>rouge-2</th>\n",
       "      <th>rouge-l</th>\n",
       "      <th>BERTScore</th>\n",
       "    </tr>\n",
       "  </thead>\n",
       "  <tbody>\n",
       "    <tr>\n",
       "      <th>r</th>\n",
       "      <td>0.751001</td>\n",
       "      <td>0.381519</td>\n",
       "      <td>0.542190</td>\n",
       "      <td>0.697909</td>\n",
       "    </tr>\n",
       "    <tr>\n",
       "      <th>p</th>\n",
       "      <td>0.173517</td>\n",
       "      <td>0.066975</td>\n",
       "      <td>0.131312</td>\n",
       "      <td>0.508487</td>\n",
       "    </tr>\n",
       "    <tr>\n",
       "      <th>f</th>\n",
       "      <td>0.268309</td>\n",
       "      <td>0.108989</td>\n",
       "      <td>0.201681</td>\n",
       "      <td>0.586063</td>\n",
       "    </tr>\n",
       "  </tbody>\n",
       "</table>\n",
       "</div>"
      ],
      "text/plain": [
       "    rouge-1   rouge-2   rouge-l  BERTScore\n",
       "r  0.751001  0.381519  0.542190   0.697909\n",
       "p  0.173517  0.066975  0.131312   0.508487\n",
       "f  0.268309  0.108989  0.201681   0.586063"
      ]
     },
     "execution_count": 66,
     "metadata": {},
     "output_type": "execute_result"
    }
   ],
   "source": [
    "text = df['text'].tolist()\n",
    "summary = df['summary'].tolist()\n",
    "generate_summary = df['generated_summary'].tolist()\n",
    "\n",
    "calculate_metrics(text, summary)"
   ]
  },
  {
   "cell_type": "code",
   "execution_count": 67,
   "metadata": {},
   "outputs": [
    {
     "name": "stderr",
     "output_type": "stream",
     "text": [
      "/opt/miniconda3/envs/accrete-ai/lib/python3.11/site-packages/transformers/tokenization_utils_base.py:1601: FutureWarning: `clean_up_tokenization_spaces` was not set. It will be set to `True` by default. This behavior will be depracted in transformers v4.45, and will be then set to `False` by default. For more details check this issue: https://github.com/huggingface/transformers/issues/31884\n",
      "  warnings.warn(\n"
     ]
    },
    {
     "data": {
      "text/html": [
       "<div>\n",
       "<style scoped>\n",
       "    .dataframe tbody tr th:only-of-type {\n",
       "        vertical-align: middle;\n",
       "    }\n",
       "\n",
       "    .dataframe tbody tr th {\n",
       "        vertical-align: top;\n",
       "    }\n",
       "\n",
       "    .dataframe thead th {\n",
       "        text-align: right;\n",
       "    }\n",
       "</style>\n",
       "<table border=\"1\" class=\"dataframe\">\n",
       "  <thead>\n",
       "    <tr style=\"text-align: right;\">\n",
       "      <th></th>\n",
       "      <th>rouge-1</th>\n",
       "      <th>rouge-2</th>\n",
       "      <th>rouge-l</th>\n",
       "      <th>BERTScore</th>\n",
       "    </tr>\n",
       "  </thead>\n",
       "  <tbody>\n",
       "    <tr>\n",
       "      <th>r</th>\n",
       "      <td>0.966766</td>\n",
       "      <td>0.909685</td>\n",
       "      <td>0.925655</td>\n",
       "      <td>0.767300</td>\n",
       "    </tr>\n",
       "    <tr>\n",
       "      <th>p</th>\n",
       "      <td>0.198063</td>\n",
       "      <td>0.148787</td>\n",
       "      <td>0.195162</td>\n",
       "      <td>0.496373</td>\n",
       "    </tr>\n",
       "    <tr>\n",
       "      <th>f</th>\n",
       "      <td>0.303089</td>\n",
       "      <td>0.234427</td>\n",
       "      <td>0.297891</td>\n",
       "      <td>0.598088</td>\n",
       "    </tr>\n",
       "  </tbody>\n",
       "</table>\n",
       "</div>"
      ],
      "text/plain": [
       "    rouge-1   rouge-2   rouge-l  BERTScore\n",
       "r  0.966766  0.909685  0.925655   0.767300\n",
       "p  0.198063  0.148787  0.195162   0.496373\n",
       "f  0.303089  0.234427  0.297891   0.598088"
      ]
     },
     "execution_count": 67,
     "metadata": {},
     "output_type": "execute_result"
    }
   ],
   "source": [
    "calculate_metrics(text, generate_summary)"
   ]
  }
 ],
 "metadata": {
  "kernelspec": {
   "display_name": "accrete-ai",
   "language": "python",
   "name": "python3"
  },
  "language_info": {
   "codemirror_mode": {
    "name": "ipython",
    "version": 3
   },
   "file_extension": ".py",
   "mimetype": "text/x-python",
   "name": "python",
   "nbconvert_exporter": "python",
   "pygments_lexer": "ipython3",
   "version": "3.11.9"
  }
 },
 "nbformat": 4,
 "nbformat_minor": 2
}
